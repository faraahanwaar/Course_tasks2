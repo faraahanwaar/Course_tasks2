{
 "cells": [
  {
   "cell_type": "markdown",
   "id": "bf11f7dd",
   "metadata": {},
   "source": [
    "# 2 basic way of computer architecture"
   ]
  },
  {
   "cell_type": "markdown",
   "id": "353a2fa2",
   "metadata": {},
   "source": [
    "CISC and RISC\n",
    "RISC is an abbreviation for Reduced Instruction Set Computer, while CISC is an abbreviation for Complex Instruction Set Computer. Out of these, the RISC processors have a comparatively smaller set of instructions along with few addressing nodes."
   ]
  },
  {
   "cell_type": "markdown",
   "id": "d9e197d1",
   "metadata": {},
   "source": [
    "# which one is the best?"
   ]
  },
  {
   "cell_type": "markdown",
   "id": "bd05b126",
   "metadata": {},
   "source": [
    "There is no clear answer to which architecture is better, as both RISC and CISC have their advantages and disadvantages. RISC proponents argue that a simpler instruction set facilitates the design of a CPU, making it easier, cheaper, and quicker to produce. RISC-based machines execute one instruction per clock cycle, while CISC machines can have special instructions as well as instructions that take more than one cycle to execute. CISC architecture can execute one, albeit more complex instruction, that does the same operations, all at once, directly upon memory. Thus, RISC architecture requires more instructions to perform the same task, but each instruction is executed more quickly. Ultimately, the choice between RISC and CISC depends on the specific needs of the system being designed"
   ]
  },
  {
   "cell_type": "code",
   "execution_count": null,
   "id": "867670ec",
   "metadata": {},
   "outputs": [],
   "source": []
  }
 ],
 "metadata": {
  "kernelspec": {
   "display_name": "Python 3 (ipykernel)",
   "language": "python",
   "name": "python3"
  },
  "language_info": {
   "codemirror_mode": {
    "name": "ipython",
    "version": 3
   },
   "file_extension": ".py",
   "mimetype": "text/x-python",
   "name": "python",
   "nbconvert_exporter": "python",
   "pygments_lexer": "ipython3",
   "version": "3.11.3"
  }
 },
 "nbformat": 4,
 "nbformat_minor": 5
}
