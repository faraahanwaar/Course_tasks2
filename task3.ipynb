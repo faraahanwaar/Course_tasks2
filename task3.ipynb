{
 "cells": [
  {
   "cell_type": "markdown",
   "id": "c6b09e26",
   "metadata": {},
   "source": [
    "# what is bios?why do we use it?"
   ]
  },
  {
   "cell_type": "markdown",
   "id": "0836e583",
   "metadata": {},
   "source": [
    "BIOS (Basic Input/Output System) is the software that a computer's microprocessor uses to start up a computer system after it's turned on. It also manages the flow of data between a computer's operating system (OS) and devices connected to it, such as a hard drive, video adapter, keyboard, mouse, and printer.\n",
    "We use BIOS to:\n",
    "Load the operating system into memory ,\n",
    "  Manage the flow of data between the operating system and peripheral devices ,\n",
    "  Provide a set of low-level routines that the operating system uses to interact with different devices ,\n",
    "  Password protect the boot process, which means that you must enter a password before any BIOS activity occurs ,\n",
    "  Manage a range of settings for hard disks, clock, etc.\n"
   ]
  }
 ],
 "metadata": {
  "kernelspec": {
   "display_name": "Python 3 (ipykernel)",
   "language": "python",
   "name": "python3"
  },
  "language_info": {
   "codemirror_mode": {
    "name": "ipython",
    "version": 3
   },
   "file_extension": ".py",
   "mimetype": "text/x-python",
   "name": "python",
   "nbconvert_exporter": "python",
   "pygments_lexer": "ipython3",
   "version": "3.11.3"
  }
 },
 "nbformat": 4,
 "nbformat_minor": 5
}
