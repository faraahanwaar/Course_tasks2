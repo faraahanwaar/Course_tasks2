{
 "cells": [
  {
   "cell_type": "markdown",
   "id": "7ef9a47d",
   "metadata": {},
   "source": [
    "# LINUX  VS UNIX ? & EXAMPLE? "
   ]
  },
  {
   "cell_type": "markdown",
   "id": "1d2fc148",
   "metadata": {},
   "source": [
    "Linux and Unix are both operating systems with similarities and differences. Here are some key points to understand the comparison between Linux and Unix:\n",
    "-->Similarities:\n",
    ".Both Linux and Unix are operating systems used in enterprise and server environments.\n",
    "They are both multi-user and multitasking operating systems.\n",
    "They have a similar command-line interface and shell scripting support.\n",
    "They are both based on the Unix philosophy of small, modular, and specialized tools.\n",
    "-->Differences:\n",
    ".Linux is an open-source operating system that was developed by Linus Torvalds in 1991, while Unix is a proprietary operating system developed by AT&T Bell Labs in the 1960s.\n",
    "Linux is free to use and can be modified and distributed, while Unix often requires licensing fees.\n",
    "Linux has a larger user and developer community, resulting in a wider range of available software and support.\n",
    "Unix is commonly used in web servers, workstations, and PCs, while Linux is used in a variety of hardware and software environments, including mainframes, game development, and embedded systems.\n",
    "Linux supports more system architectures than Unix, making it more portable.\n",
    "Unix supports fewer file systems compared to Linux.\n"
   ]
  },
  {
   "cell_type": "markdown",
   "id": "2fc5db65",
   "metadata": {},
   "source": [
    "Examples of Linux:\n",
    ".Fedora\n",
    ".Debian\n",
    ".Red Hat\n",
    ".Ubuntu\n",
    ".Android\n",
    "\n",
    "Examples of Unix:\n",
    ".IBM AIX\n",
    ".Darwin\n",
    ".Solaris\n",
    ".HP-UX\n",
    ".macOS X"
   ]
  }
 ],
 "metadata": {
  "kernelspec": {
   "display_name": "Python 3 (ipykernel)",
   "language": "python",
   "name": "python3"
  },
  "language_info": {
   "codemirror_mode": {
    "name": "ipython",
    "version": 3
   },
   "file_extension": ".py",
   "mimetype": "text/x-python",
   "name": "python",
   "nbconvert_exporter": "python",
   "pygments_lexer": "ipython3",
   "version": "3.11.3"
  }
 },
 "nbformat": 4,
 "nbformat_minor": 5
}
