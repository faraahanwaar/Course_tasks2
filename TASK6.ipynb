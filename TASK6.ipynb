{
 "cells": [
  {
   "cell_type": "markdown",
   "id": "b4e93ac8",
   "metadata": {},
   "source": [
    "# COMPARE between all 3 scheduling algorithms"
   ]
  },
  {
   "cell_type": "raw",
   "id": "c07cb248",
   "metadata": {},
   "source": [
    "1-First Come First Serve (FCFS) Scheduling\n",
    ".Processes are executed in the order they arrive in the ready queue.\n",
    ".Simple and easy to implement.\n",
    ".May result in long waiting times for processes with long CPU burst times.\n",
    ".Not suitable for time-sharing systems."
   ]
  },
  {
   "cell_type": "raw",
   "id": "e1501499",
   "metadata": {},
   "source": [
    "2-Round Robin (RR) Scheduling\n",
    ".Each process is executed for a fixed time slice (quantum) and then moved to the end of the ready queue.\n",
    ".Suitable for time-sharing systems.\n",
    ".Provides fair allocation of CPU time to all processes.\n",
    ".May result in high context switching overhead and longer waiting times for processes with long CPU burst times."
   ]
  },
  {
   "cell_type": "raw",
   "id": "910161fa",
   "metadata": {},
   "source": [
    "3-Priority Scheduling\n",
    ".Processes are executed based on priority.\n",
    ".Lower priority processes may be preempted by higher priority processes.\n",
    ".Suitable for real-time systems and systems with varying priorities.\n",
    ".May result in starvation for lower priority processes."
   ]
  },
  {
   "cell_type": "code",
   "execution_count": null,
   "id": "968c1605",
   "metadata": {},
   "outputs": [],
   "source": []
  }
 ],
 "metadata": {
  "kernelspec": {
   "display_name": "Python 3 (ipykernel)",
   "language": "python",
   "name": "python3"
  },
  "language_info": {
   "codemirror_mode": {
    "name": "ipython",
    "version": 3
   },
   "file_extension": ".py",
   "mimetype": "text/x-python",
   "name": "python",
   "nbconvert_exporter": "python",
   "pygments_lexer": "ipython3",
   "version": "3.11.3"
  }
 },
 "nbformat": 4,
 "nbformat_minor": 5
}
