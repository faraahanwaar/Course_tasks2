{
 "cells": [
  {
   "cell_type": "markdown",
   "id": "a0e6af0b",
   "metadata": {},
   "source": [
    "# what is fragmentation?"
   ]
  },
  {
   "cell_type": "raw",
   "id": "144a4441",
   "metadata": {},
   "source": [
    "Fragmentation is a phenomenon that occurs in computer storage when data is stored in non-contiguous blocks or locations on a storage medium, such as a hard drive or RAM. This results in inefficient use of storage space and occasional performance degradation. Fragmentation can occur at various levels within a system, such as file fragmentation, memory fragmentation, and network fragmentation. There are two types of fragmentation: internal fragmentation and external fragmentation. Internal fragmentation occurs when a process is allocated a memory block that is larger than the amount of memory it actually needs, while external fragmentation occurs when there is enough total memory available to satisfy a request, but the memory is not contiguous. Fragmentation can be resolved through defragmentation, which is the process of piecing together the fragments of data into contiguous blocks. Defragmentation can help improve system performance and optimize storage space utilization"
   ]
  },
  {
   "cell_type": "code",
   "execution_count": null,
   "id": "281ee9c3",
   "metadata": {},
   "outputs": [],
   "source": []
  }
 ],
 "metadata": {
  "kernelspec": {
   "display_name": "Python 3 (ipykernel)",
   "language": "python",
   "name": "python3"
  },
  "language_info": {
   "codemirror_mode": {
    "name": "ipython",
    "version": 3
   },
   "file_extension": ".py",
   "mimetype": "text/x-python",
   "name": "python",
   "nbconvert_exporter": "python",
   "pygments_lexer": "ipython3",
   "version": "3.11.3"
  }
 },
 "nbformat": 4,
 "nbformat_minor": 5
}
