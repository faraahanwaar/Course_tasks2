{
 "cells": [
  {
   "cell_type": "markdown",
   "id": "770e69fa",
   "metadata": {},
   "source": [
    "# parallel processing vs threads"
   ]
  },
  {
   "cell_type": "raw",
   "id": "3d756fec",
   "metadata": {},
   "source": [
    "Parallel Processing\n",
    "1)Refers to the ability of a system to run multiple processors in parallel, where each processor can run one or more threads.\n",
    "2)Multiple processors work together to achieve the result more efficiently.\n",
    "3)Suitable for computationally intensive tasks that can be broken down into smaller parts.\n",
    "4)Requires inter-process communication (IPC) to share data between processes.\n",
    "5)Processes have their separate memory space.\n",
    "6)Each process has its own address space and does not share memory with other processes.\n",
    "7)Processes can run on separate processors at the same time, resulting in parallel execution.\n",
    "8)Each process can be managed independently, allowing for better fault tolerance and error handling.\n"
   ]
  },
  {
   "cell_type": "raw",
   "id": "0208fc54",
   "metadata": {},
   "source": [
    "Threads\n",
    "1)Refers to the ability of a process to spawn multiple, concurrent threads.\n",
    "2)Each thread runs its own sequence of instructions.\n",
    "3)Threads share the same memory space and communicate with each other if necessary.\n",
    "4)Suitable for tasks that can be parallelized within a single process.\n",
    "5)Threads are more lightweight and have lower overhead compared to processes.\n",
    "6)Sharing objects between threads is easier, as they share the same memory space.\n",
    "7)All the threads of a process live in the same memory space.\n",
    "8)Threads can be managed by the same process, allowing for better coordination and synchronization."
   ]
  },
  {
   "cell_type": "code",
   "execution_count": null,
   "id": "d6ff46df",
   "metadata": {},
   "outputs": [],
   "source": []
  }
 ],
 "metadata": {
  "kernelspec": {
   "display_name": "Python 3 (ipykernel)",
   "language": "python",
   "name": "python3"
  },
  "language_info": {
   "codemirror_mode": {
    "name": "ipython",
    "version": 3
   },
   "file_extension": ".py",
   "mimetype": "text/x-python",
   "name": "python",
   "nbconvert_exporter": "python",
   "pygments_lexer": "ipython3",
   "version": "3.11.3"
  }
 },
 "nbformat": 4,
 "nbformat_minor": 5
}
