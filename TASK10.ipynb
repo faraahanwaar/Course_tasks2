{
 "cells": [
  {
   "cell_type": "markdown",
   "id": "d01a2fa8",
   "metadata": {},
   "source": [
    "# SOLID principles "
   ]
  },
  {
   "cell_type": "raw",
   "id": "c7757030",
   "metadata": {},
   "source": [
    "SOLID principles are a set of five object-oriented design principles that aim to make software development more understandable, flexible, and maintainable. The acronym SOLID stands for:\n",
    "Single Responsibility Principle (SRP): A class should have only one reason to change.\n",
    "Open-Closed Principle (OCP): Software entities should be open for extension but closed for modification.\n",
    "Liskov Substitution Principle (LSP): Objects of a superclass should be replaceable with objects of its subclasses without breaking the system.\n",
    "Interface Segregation Principle (ISP): No client should be forced to depend on methods it does not use.\n",
    "Dependency Inversion Principle (DIP): High-level modules should not depend on low-level modules, both should depend on abstractions.\n",
    "These principles help developers write clean, maintainable, and extensible code. By following these principles, developers can reduce dependencies, improve code reusability, and make their code more testable. The SOLID principles are language-agnostic and can be applied to any object-oriented programming language"
   ]
  },
  {
   "cell_type": "code",
   "execution_count": null,
   "id": "22ec35f3",
   "metadata": {},
   "outputs": [],
   "source": []
  }
 ],
 "metadata": {
  "kernelspec": {
   "display_name": "Python 3 (ipykernel)",
   "language": "python",
   "name": "python3"
  },
  "language_info": {
   "codemirror_mode": {
    "name": "ipython",
    "version": 3
   },
   "file_extension": ".py",
   "mimetype": "text/x-python",
   "name": "python",
   "nbconvert_exporter": "python",
   "pygments_lexer": "ipython3",
   "version": "3.11.3"
  }
 },
 "nbformat": 4,
 "nbformat_minor": 5
}
