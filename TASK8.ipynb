{
 "cells": [
  {
   "cell_type": "markdown",
   "id": "302e7962",
   "metadata": {},
   "source": [
    "# language support multithreading"
   ]
  },
  {
   "cell_type": "raw",
   "id": "41ecf10a",
   "metadata": {},
   "source": [
    "*Here is a list of programming languages that support multithreading, based on the provided sources:\n",
    "Java\n",
    "C\n",
    "C++\n",
    ".NET frameworks\n",
    "Ruby MRI for Ruby\n",
    "CPython for Python\n",
    "Scala\n",
    "Python\n",
    "Perl\n",
    "Haskell\n",
    "Erlang\n",
    "Limbo\n",
    "MPD\n",
    "Oz\n",
    "Julia\n",
    "Emerald\n",
    "Hermes"
   ]
  },
  {
   "cell_type": "code",
   "execution_count": null,
   "id": "df83ab88",
   "metadata": {},
   "outputs": [],
   "source": []
  }
 ],
 "metadata": {
  "kernelspec": {
   "display_name": "Python 3 (ipykernel)",
   "language": "python",
   "name": "python3"
  },
  "language_info": {
   "codemirror_mode": {
    "name": "ipython",
    "version": 3
   },
   "file_extension": ".py",
   "mimetype": "text/x-python",
   "name": "python",
   "nbconvert_exporter": "python",
   "pygments_lexer": "ipython3",
   "version": "3.11.3"
  }
 },
 "nbformat": 4,
 "nbformat_minor": 5
}
