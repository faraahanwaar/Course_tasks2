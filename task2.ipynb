{
 "cells": [
  {
   "cell_type": "markdown",
   "id": "20f14b6b",
   "metadata": {},
   "source": [
    "# language support auto garbage collection"
   ]
  },
  {
   "cell_type": "raw",
   "id": "e8e5024c",
   "metadata": {},
   "source": [
    "Many programming languages support automatic garbage collection\n",
    "Java\n",
    "Python\n",
    ".NET/C\n",
    "Ruby\n",
    "D\n",
    "OCaml\n",
    "Swift\n",
    "Eiffel\n",
    "Haskell\n",
    "ML\n",
    "Modula-3\n",
    "Perl\n",
    "Prolog\n",
    "Scheme\n",
    "Smalltalk\n",
    "SML\n",
    "Go\n"
   ]
  },
  {
   "cell_type": "code",
   "execution_count": null,
   "id": "e23e1d5d",
   "metadata": {},
   "outputs": [],
   "source": []
  }
 ],
 "metadata": {
  "kernelspec": {
   "display_name": "Python 3 (ipykernel)",
   "language": "python",
   "name": "python3"
  },
  "language_info": {
   "codemirror_mode": {
    "name": "ipython",
    "version": 3
   },
   "file_extension": ".py",
   "mimetype": "text/x-python",
   "name": "python",
   "nbconvert_exporter": "python",
   "pygments_lexer": "ipython3",
   "version": "3.11.3"
  }
 },
 "nbformat": 4,
 "nbformat_minor": 5
}
