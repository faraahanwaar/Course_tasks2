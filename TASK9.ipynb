{
 "cells": [
  {
   "cell_type": "markdown",
   "id": "4d57ffd9",
   "metadata": {},
   "source": [
    "# clean code"
   ]
  },
  {
   "cell_type": "markdown",
   "id": "ae9cc68c",
   "metadata": {},
   "source": [
    "When it comes to clean code, there are several principles and best practices that can be followed. Here are some key points from the search results:\n",
    "Clean code is easy to understand and can be read and enhanced by other developers.\n",
    "It follows standard conventions and keeps things simple.\n",
    "It avoids code repetitions and reduces complexity.\n",
    "Descriptive names are used for functions and variables.\n",
    "It prefers fewer arguments and avoids side effects.\n",
    "Comments are used sparingly and only when necessary.\n",
    "Clean code is well-documented, consistently formatted, and organized.\n",
    "It avoids magic numbers, deep nesting, and large functions.\n",
    "Code repetition is minimized, and variables are used consistently.\n",
    "Following conventions and principles leads to clean code that is reliable, maintainable, and readable.\n",
    "Overall, clean code is focused on readability, maintainability, and simplicity. It follows agreed-upon principles and conventions that are language-agnostic and agreed upon by the developer community. By writing clean code, developers can improve the quality of their code, make it easier to understand and maintain, and enhance collaboration with other team members"
   ]
  }
 ],
 "metadata": {
  "kernelspec": {
   "display_name": "Python 3 (ipykernel)",
   "language": "python",
   "name": "python3"
  },
  "language_info": {
   "codemirror_mode": {
    "name": "ipython",
    "version": 3
   },
   "file_extension": ".py",
   "mimetype": "text/x-python",
   "name": "python",
   "nbconvert_exporter": "python",
   "pygments_lexer": "ipython3",
   "version": "3.11.3"
  }
 },
 "nbformat": 4,
 "nbformat_minor": 5
}
